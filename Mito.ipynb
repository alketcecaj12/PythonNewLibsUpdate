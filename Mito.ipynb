{
 "cells": [
  {
   "cell_type": "code",
   "execution_count": 2,
   "id": "8711634e-9c1b-466f-a813-2c43a9254ad8",
   "metadata": {},
   "outputs": [
    {
     "name": "stderr",
     "output_type": "stream",
     "text": [
      "/Users/alket/miniconda3/envs/myenv/lib/python3.10/site-packages/pandas/core/arrays/masked.py:60: UserWarning: Pandas requires version '1.3.6' or newer of 'bottleneck' (version '1.3.5' currently installed).\n",
      "  from pandas.core import (\n"
     ]
    }
   ],
   "source": [
    "import pandas as pd\n",
    "df = pd.DataFrame({'City': ['New York City', 'New York City', 'Philadelphia', 'Washington D.C.', 'Boston', 'Boston'], 'Ticket_Office': ['N', 'Y', 'N', 'Y', 'N', 'Y']}) "
   ]
  },
  {
   "cell_type": "code",
   "execution_count": 3,
   "id": "cbe68c4d-2195-468a-ac5a-e2cea06c6b4a",
   "metadata": {},
   "outputs": [
    {
     "ename": "TypeError",
     "evalue": "DataFrame.set_axis() got an unexpected keyword argument 'inplace'",
     "output_type": "error",
     "traceback": [
      "\u001b[0;31m---------------------------------------------------------------------------\u001b[0m",
      "\u001b[0;31mTypeError\u001b[0m                                 Traceback (most recent call last)",
      "Cell \u001b[0;32mIn[3], line 10\u001b[0m\n\u001b[1;32m      4\u001b[0m tmp_df \u001b[38;5;241m=\u001b[39m df[[\u001b[38;5;124m'\u001b[39m\u001b[38;5;124mCity\u001b[39m\u001b[38;5;124m'\u001b[39m]]\n\u001b[1;32m      5\u001b[0m pivot_table \u001b[38;5;241m=\u001b[39m tmp_df\u001b[38;5;241m.\u001b[39mpivot_table(\n\u001b[1;32m      6\u001b[0m     index\u001b[38;5;241m=\u001b[39m[\u001b[38;5;124m'\u001b[39m\u001b[38;5;124mCity\u001b[39m\u001b[38;5;124m'\u001b[39m],\n\u001b[1;32m      7\u001b[0m     values\u001b[38;5;241m=\u001b[39m[\u001b[38;5;124m'\u001b[39m\u001b[38;5;124mCity\u001b[39m\u001b[38;5;124m'\u001b[39m],\n\u001b[1;32m      8\u001b[0m     aggfunc\u001b[38;5;241m=\u001b[39m{\u001b[38;5;124m'\u001b[39m\u001b[38;5;124mCity\u001b[39m\u001b[38;5;124m'\u001b[39m: [\u001b[38;5;124m'\u001b[39m\u001b[38;5;124mcount\u001b[39m\u001b[38;5;124m'\u001b[39m]}\n\u001b[1;32m      9\u001b[0m )\n\u001b[0;32m---> 10\u001b[0m \u001b[43mpivot_table\u001b[49m\u001b[38;5;241;43m.\u001b[39;49m\u001b[43mset_axis\u001b[49m\u001b[43m(\u001b[49m\u001b[43m[\u001b[49m\u001b[43mflatten_column_header\u001b[49m\u001b[43m(\u001b[49m\u001b[43mcol\u001b[49m\u001b[43m)\u001b[49m\u001b[43m \u001b[49m\u001b[38;5;28;43;01mfor\u001b[39;49;00m\u001b[43m \u001b[49m\u001b[43mcol\u001b[49m\u001b[43m \u001b[49m\u001b[38;5;129;43;01min\u001b[39;49;00m\u001b[43m \u001b[49m\u001b[43mpivot_table\u001b[49m\u001b[38;5;241;43m.\u001b[39;49m\u001b[43mkeys\u001b[49m\u001b[43m(\u001b[49m\u001b[43m)\u001b[49m\u001b[43m]\u001b[49m\u001b[43m,\u001b[49m\u001b[43m \u001b[49m\u001b[43maxis\u001b[49m\u001b[38;5;241;43m=\u001b[39;49m\u001b[38;5;241;43m1\u001b[39;49m\u001b[43m,\u001b[49m\u001b[43m \u001b[49m\u001b[43minplace\u001b[49m\u001b[38;5;241;43m=\u001b[39;49m\u001b[38;5;28;43;01mTrue\u001b[39;49;00m\u001b[43m)\u001b[49m\n\u001b[1;32m     11\u001b[0m df_pivot \u001b[38;5;241m=\u001b[39m pivot_table\u001b[38;5;241m.\u001b[39mreset_index()\n\u001b[1;32m     13\u001b[0m \u001b[38;5;66;03m# Renamed columns Number of Stations\u001b[39;00m\n",
      "\u001b[0;31mTypeError\u001b[0m: DataFrame.set_axis() got an unexpected keyword argument 'inplace'"
     ]
    }
   ],
   "source": [
    "from mitosheet import *; # Analysis Name:id-jwatoqmnru;\n",
    "    \n",
    "# Pivoted into df\n",
    "tmp_df = df[['City']]\n",
    "pivot_table = tmp_df.pivot_table(\n",
    "    index=['City'],\n",
    "    values=['City'],\n",
    "    aggfunc={'City': ['count']}\n",
    ")\n",
    "pivot_table.set_axis([flatten_column_header(col) for col in pivot_table.keys()], axis=1, inplace=True)\n",
    "df_pivot = pivot_table.reset_index()\n",
    "\n",
    "# Renamed columns Number of Stations\n",
    "df_pivot.rename(columns={'City count': 'Number of Stations'}, inplace=True)"
   ]
  },
  {
   "cell_type": "code",
   "execution_count": 4,
   "id": "dba7f6e4-0fe0-4bfa-b498-2f92e909ac19",
   "metadata": {},
   "outputs": [
    {
     "ename": "NameError",
     "evalue": "name 'df_pivot' is not defined",
     "output_type": "error",
     "traceback": [
      "\u001b[0;31m---------------------------------------------------------------------------\u001b[0m",
      "\u001b[0;31mNameError\u001b[0m                                 Traceback (most recent call last)",
      "Cell \u001b[0;32mIn[4], line 1\u001b[0m\n\u001b[0;32m----> 1\u001b[0m df_pivot_styler \u001b[38;5;241m=\u001b[39m \u001b[43mdf_pivot\u001b[49m\u001b[38;5;241m.\u001b[39mstyle\\\n\u001b[1;32m      2\u001b[0m     \u001b[38;5;241m.\u001b[39mset_table_styles([\n\u001b[1;32m      3\u001b[0m         {\u001b[38;5;124m'\u001b[39m\u001b[38;5;124mselector\u001b[39m\u001b[38;5;124m'\u001b[39m: \u001b[38;5;124m'\u001b[39m\u001b[38;5;124mthead\u001b[39m\u001b[38;5;124m'\u001b[39m, \u001b[38;5;124m'\u001b[39m\u001b[38;5;124mprops\u001b[39m\u001b[38;5;124m'\u001b[39m: [(\u001b[38;5;124m'\u001b[39m\u001b[38;5;124mcolor\u001b[39m\u001b[38;5;124m'\u001b[39m, \u001b[38;5;124m'\u001b[39m\u001b[38;5;124m#FFFFFF\u001b[39m\u001b[38;5;124m'\u001b[39m), (\u001b[38;5;124m'\u001b[39m\u001b[38;5;124mbackground-color\u001b[39m\u001b[38;5;124m'\u001b[39m, \u001b[38;5;124m'\u001b[39m\u001b[38;5;124m#4D73BE\u001b[39m\u001b[38;5;124m'\u001b[39m)]},\n\u001b[1;32m      4\u001b[0m ])\n",
      "\u001b[0;31mNameError\u001b[0m: name 'df_pivot' is not defined"
     ]
    }
   ],
   "source": [
    "df_pivot_styler = df_pivot.style\\\n",
    "    .set_table_styles([\n",
    "        {'selector': 'thead', 'props': [('color', '#FFFFFF'), ('background-color', '#4D73BE')]},\n",
    "])"
   ]
  },
  {
   "cell_type": "code",
   "execution_count": 5,
   "id": "4da86ba9-d608-493f-9344-17f70599a772",
   "metadata": {},
   "outputs": [
    {
     "ename": "ModuleNotFoundError",
     "evalue": "No module named 'win32com'",
     "output_type": "error",
     "traceback": [
      "\u001b[0;31m---------------------------------------------------------------------------\u001b[0m",
      "\u001b[0;31mModuleNotFoundError\u001b[0m                       Traceback (most recent call last)",
      "Cell \u001b[0;32mIn[5], line 1\u001b[0m\n\u001b[0;32m----> 1\u001b[0m \u001b[38;5;28;01mimport\u001b[39;00m \u001b[38;5;21;01mwin32com\u001b[39;00m\u001b[38;5;21;01m.\u001b[39;00m\u001b[38;5;21;01mclient\u001b[39;00m\n\u001b[1;32m      3\u001b[0m \u001b[38;5;66;03m# Generate a new email\u001b[39;00m\n\u001b[1;32m      4\u001b[0m outlook \u001b[38;5;241m=\u001b[39m win32com\u001b[38;5;241m.\u001b[39mclient\u001b[38;5;241m.\u001b[39mDispatch(\u001b[38;5;124m'\u001b[39m\u001b[38;5;124moutlook.application\u001b[39m\u001b[38;5;124m'\u001b[39m)\n",
      "\u001b[0;31mModuleNotFoundError\u001b[0m: No module named 'win32com'"
     ]
    }
   ],
   "source": [
    "import win32com.client\n",
    "\n",
    "# Generate a new email\n",
    "outlook = win32com.client.Dispatch('outlook.application')\n",
    "mail = outlook.CreateItem(0)\n",
    "mail.To = 'aaron@sagacollab.com'\n",
    "mail.Subject = 'Mito Email Template'\n",
    "\n",
    "# Add the pivot table to the email body\n",
    "mail.HTMLBody = table_html = df_pivot_styler.to_html()\n",
    "\n",
    "# Send the email\n",
    "mail.Send()"
   ]
  },
  {
   "cell_type": "code",
   "execution_count": null,
   "id": "1e8b0d96-1f6a-4c7f-8706-ebe418484473",
   "metadata": {},
   "outputs": [],
   "source": []
  },
  {
   "cell_type": "code",
   "execution_count": null,
   "id": "2d87d13a-8d39-4b2b-b589-5ddb15540d2f",
   "metadata": {},
   "outputs": [],
   "source": []
  },
  {
   "cell_type": "code",
   "execution_count": null,
   "id": "e00b614c-017b-44ec-a71b-e1a735440dee",
   "metadata": {},
   "outputs": [],
   "source": []
  },
  {
   "cell_type": "code",
   "execution_count": null,
   "id": "969fd3ee-bd8b-42e0-b261-ee9c2831397f",
   "metadata": {},
   "outputs": [],
   "source": []
  },
  {
   "cell_type": "code",
   "execution_count": null,
   "id": "98db83ce-4c0a-41af-8dd4-6ff3f8d2bd8e",
   "metadata": {},
   "outputs": [],
   "source": []
  },
  {
   "cell_type": "code",
   "execution_count": null,
   "id": "9f8b3415-e672-42e7-848c-f641d2b17e54",
   "metadata": {},
   "outputs": [],
   "source": []
  }
 ],
 "metadata": {
  "kernelspec": {
   "display_name": "Python 3 (ipykernel)",
   "language": "python",
   "name": "python3"
  },
  "language_info": {
   "codemirror_mode": {
    "name": "ipython",
    "version": 3
   },
   "file_extension": ".py",
   "mimetype": "text/x-python",
   "name": "python",
   "nbconvert_exporter": "python",
   "pygments_lexer": "ipython3",
   "version": "3.10.13"
  }
 },
 "nbformat": 4,
 "nbformat_minor": 5
}
