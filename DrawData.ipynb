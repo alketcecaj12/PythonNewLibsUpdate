{
 "cells": [
  {
   "cell_type": "markdown",
   "id": "61ecab25-9088-47cc-8188-63dbe2f59aa9",
   "metadata": {},
   "source": [
    "### Draw Data\n",
    "\n",
    "- is a Python library that makes it possible to hand-draw datasets or sketch them visual.\n",
    "\n",
    "- perfect for the situations in which you need to custom a dataset very fast.\n",
    "\n",
    "- like for when you are teaching clustering algorithms and you need a dataset "
   ]
  },
  {
   "cell_type": "code",
   "execution_count": 13,
   "id": "9257cb43-e398-4da8-90bf-4be8056cf9c2",
   "metadata": {},
   "outputs": [],
   "source": [
    "from drawdata import draw_scatter\n",
    "from drawdata import draw_histogram\n",
    "from drawdata import ScatterWidget\n",
    "from drawdata import draw_line"
   ]
  },
  {
   "cell_type": "code",
   "execution_count": 14,
   "id": "9d1c5bef-8ccb-491f-ae8d-ca171ae05891",
   "metadata": {},
   "outputs": [],
   "source": [
    "import matplotlib.pyplot as plt"
   ]
  },
  {
   "cell_type": "raw",
   "id": "1917ff07-dde9-43cf-9243-86b5fe829016",
   "metadata": {},
   "source": [
    "plt.figure(figsize= (6, 12))"
   ]
  },
  {
   "cell_type": "code",
   "execution_count": 15,
   "id": "664441c6-5e04-41c0-b804-d82343a3b78a",
   "metadata": {},
   "outputs": [
    {
     "name": "stdout",
     "output_type": "stream",
     "text": [
      "Deprecated. Use drawdata.ScatterWidget() instead.\n"
     ]
    },
    {
     "data": {
      "text/html": [
       "\n",
       "        <iframe\n",
       "            width=\"800\"\n",
       "            height=\"550\"\n",
       "            src=\"https://drawdata.xyz/scatter.html\"\n",
       "            frameborder=\"0\"\n",
       "            allowfullscreen\n",
       "            \n",
       "        ></iframe>\n",
       "        "
      ],
      "text/plain": [
       "<IPython.lib.display.IFrame at 0x11a559540>"
      ]
     },
     "execution_count": 15,
     "metadata": {},
     "output_type": "execute_result"
    }
   ],
   "source": [
    "draw_scatter()"
   ]
  },
  {
   "cell_type": "code",
   "execution_count": 16,
   "id": "a44fbbb3-9db8-4309-bd66-d81b204840b3",
   "metadata": {},
   "outputs": [
    {
     "name": "stdout",
     "output_type": "stream",
     "text": [
      "Deprecated. Use drawdata.BarWidget() instead.\n"
     ]
    },
    {
     "data": {
      "text/html": [
       "\n",
       "        <iframe\n",
       "            width=\"800\"\n",
       "            height=\"550\"\n",
       "            src=\"https://drawdata.xyz/histogram.html\"\n",
       "            frameborder=\"0\"\n",
       "            allowfullscreen\n",
       "            \n",
       "        ></iframe>\n",
       "        "
      ],
      "text/plain": [
       "<IPython.lib.display.IFrame at 0x11a559690>"
      ]
     },
     "execution_count": 16,
     "metadata": {},
     "output_type": "execute_result"
    }
   ],
   "source": [
    "draw_histogram()"
   ]
  },
  {
   "cell_type": "code",
   "execution_count": 17,
   "id": "5cfef8f2-bf67-4969-bdd6-056a496d9f25",
   "metadata": {},
   "outputs": [
    {
     "name": "stdout",
     "output_type": "stream",
     "text": [
      "Deprecated. Use drawdata.ScatterWidget() instead.\n"
     ]
    },
    {
     "data": {
      "text/html": [
       "\n",
       "        <iframe\n",
       "            width=\"800\"\n",
       "            height=\"550\"\n",
       "            src=\"https://drawdata.xyz/line.html\"\n",
       "            frameborder=\"0\"\n",
       "            allowfullscreen\n",
       "            \n",
       "        ></iframe>\n",
       "        "
      ],
      "text/plain": [
       "<IPython.lib.display.IFrame at 0x11a558730>"
      ]
     },
     "execution_count": 17,
     "metadata": {},
     "output_type": "execute_result"
    }
   ],
   "source": [
    "draw_line()"
   ]
  },
  {
   "cell_type": "code",
   "execution_count": 18,
   "id": "273d2e5e-fca0-468e-a38c-45f6311b60a4",
   "metadata": {},
   "outputs": [],
   "source": [
    "widget = ScatterWidget()"
   ]
  },
  {
   "cell_type": "code",
   "execution_count": 19,
   "id": "fd92ff61-3e7f-42cc-bd2d-55fb11d6f2ba",
   "metadata": {},
   "outputs": [
    {
     "data": {
      "application/vnd.jupyter.widget-view+json": {
       "model_id": "118c87bc90b04681b5563c5006cfda31",
       "version_major": 2,
       "version_minor": 1
      },
      "text/plain": [
       "ScatterWidget()"
      ]
     },
     "execution_count": 19,
     "metadata": {},
     "output_type": "execute_result"
    }
   ],
   "source": [
    "widget"
   ]
  },
  {
   "cell_type": "code",
   "execution_count": null,
   "id": "3a8737a1-e7c2-45f0-a86e-093098b39e08",
   "metadata": {},
   "outputs": [],
   "source": []
  },
  {
   "cell_type": "code",
   "execution_count": null,
   "id": "cbdbb74a-4b21-4d47-b400-e4d3b3571577",
   "metadata": {},
   "outputs": [],
   "source": []
  },
  {
   "cell_type": "code",
   "execution_count": null,
   "id": "d140bade-75c9-461a-abc5-1418c037b649",
   "metadata": {},
   "outputs": [],
   "source": []
  },
  {
   "cell_type": "code",
   "execution_count": null,
   "id": "961b802d-73ed-46ef-87ef-01e81335b9a4",
   "metadata": {},
   "outputs": [],
   "source": []
  },
  {
   "cell_type": "code",
   "execution_count": null,
   "id": "73fa9fca-652b-472c-8107-794ec2a947a5",
   "metadata": {},
   "outputs": [],
   "source": []
  },
  {
   "cell_type": "code",
   "execution_count": null,
   "id": "3ddceff9-4d01-46d6-b48c-3f0d435ce6a5",
   "metadata": {},
   "outputs": [],
   "source": []
  },
  {
   "cell_type": "code",
   "execution_count": null,
   "id": "314636fc-870a-4536-b498-605e005a56e7",
   "metadata": {},
   "outputs": [],
   "source": []
  },
  {
   "cell_type": "code",
   "execution_count": null,
   "id": "0e3e4803-fa5e-4dfb-9b59-50ffe491dec9",
   "metadata": {},
   "outputs": [],
   "source": []
  }
 ],
 "metadata": {
  "kernelspec": {
   "display_name": "Python 3 (ipykernel)",
   "language": "python",
   "name": "python3"
  },
  "language_info": {
   "codemirror_mode": {
    "name": "ipython",
    "version": 3
   },
   "file_extension": ".py",
   "mimetype": "text/x-python",
   "name": "python",
   "nbconvert_exporter": "python",
   "pygments_lexer": "ipython3",
   "version": "3.10.13"
  }
 },
 "nbformat": 4,
 "nbformat_minor": 5
}
