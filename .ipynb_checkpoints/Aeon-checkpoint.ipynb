{
 "cells": [
  {
   "cell_type": "markdown",
   "id": "1d4419ab-065f-4a79-bbdc-161dc18f48e7",
   "metadata": {},
   "source": [
    "## Aeon \n",
    "\n",
    "- it is an open-source toolkit for learning from time series. It is compatible with scikit-learn and provides access to the very latest algorithms for time series machine learning, in addition to a range of classical techniques for learning tasks such as forecasting and classification."
   ]
  },
  {
   "cell_type": "code",
   "execution_count": 2,
   "id": "40708936-e0bf-4fc8-9293-02f0cca19c95",
   "metadata": {},
   "outputs": [
    {
     "name": "stdout",
     "output_type": "stream",
     "text": [
      "Collecting aeon\n",
      "  Downloading aeon-1.0.0-py3-none-any.whl.metadata (20 kB)\n",
      "Collecting deprecated>=1.2.13 (from aeon)\n",
      "  Downloading Deprecated-1.2.15-py2.py3-none-any.whl.metadata (5.5 kB)\n",
      "Requirement already satisfied: numba<0.61.0,>=0.55 in /Users/alket/miniconda3/envs/myenv/lib/python3.10/site-packages (from aeon) (0.58.1)\n",
      "Requirement already satisfied: numpy<2.1.0,>=1.21.0 in /Users/alket/miniconda3/envs/myenv/lib/python3.10/site-packages (from aeon) (1.24.3)\n",
      "Requirement already satisfied: packaging>=20.0 in /Users/alket/miniconda3/envs/myenv/lib/python3.10/site-packages (from aeon) (23.2)\n",
      "Requirement already satisfied: pandas<2.3.0,>=2.0.0 in /Users/alket/miniconda3/envs/myenv/lib/python3.10/site-packages (from aeon) (2.1.4)\n",
      "Requirement already satisfied: scikit-learn<1.6.0,>=1.0.0 in /Users/alket/miniconda3/envs/myenv/lib/python3.10/site-packages (from aeon) (1.3.0)\n",
      "Requirement already satisfied: scipy<1.15.0,>=1.9.0 in /Users/alket/miniconda3/envs/myenv/lib/python3.10/site-packages (from aeon) (1.11.4)\n",
      "Requirement already satisfied: typing-extensions>=4.6.0 in /Users/alket/miniconda3/envs/myenv/lib/python3.10/site-packages (from aeon) (4.12.2)\n",
      "Requirement already satisfied: wrapt<2,>=1.10 in /Users/alket/miniconda3/envs/myenv/lib/python3.10/site-packages (from deprecated>=1.2.13->aeon) (1.14.1)\n",
      "Requirement already satisfied: llvmlite<0.42,>=0.41.0dev0 in /Users/alket/miniconda3/envs/myenv/lib/python3.10/site-packages (from numba<0.61.0,>=0.55->aeon) (0.41.0)\n",
      "Requirement already satisfied: python-dateutil>=2.8.2 in /Users/alket/miniconda3/envs/myenv/lib/python3.10/site-packages (from pandas<2.3.0,>=2.0.0->aeon) (2.8.2)\n",
      "Requirement already satisfied: pytz>=2020.1 in /Users/alket/miniconda3/envs/myenv/lib/python3.10/site-packages (from pandas<2.3.0,>=2.0.0->aeon) (2023.3.post1)\n",
      "Requirement already satisfied: tzdata>=2022.1 in /Users/alket/miniconda3/envs/myenv/lib/python3.10/site-packages (from pandas<2.3.0,>=2.0.0->aeon) (2023.3)\n",
      "Requirement already satisfied: joblib>=1.1.1 in /Users/alket/miniconda3/envs/myenv/lib/python3.10/site-packages (from scikit-learn<1.6.0,>=1.0.0->aeon) (1.3.2)\n",
      "Requirement already satisfied: threadpoolctl>=2.0.0 in /Users/alket/miniconda3/envs/myenv/lib/python3.10/site-packages (from scikit-learn<1.6.0,>=1.0.0->aeon) (3.2.0)\n",
      "Requirement already satisfied: six>=1.5 in /Users/alket/miniconda3/envs/myenv/lib/python3.10/site-packages (from python-dateutil>=2.8.2->pandas<2.3.0,>=2.0.0->aeon) (1.16.0)\n",
      "Downloading aeon-1.0.0-py3-none-any.whl (8.2 MB)\n",
      "\u001b[2K   \u001b[90m━━━━━━━━━━━━━━━━━━━━━━━━━━━━━━━━━━━━━━━━\u001b[0m \u001b[32m8.2/8.2 MB\u001b[0m \u001b[31m3.3 MB/s\u001b[0m eta \u001b[36m0:00:00\u001b[0m00:01\u001b[0m00:01\u001b[0m0m\n",
      "\u001b[?25hDownloading Deprecated-1.2.15-py2.py3-none-any.whl (9.9 kB)\n",
      "Installing collected packages: deprecated, aeon\n",
      "Successfully installed aeon-1.0.0 deprecated-1.2.15\n"
     ]
    }
   ],
   "source": [
    "!pip install aeon"
   ]
  },
  {
   "cell_type": "code",
   "execution_count": 4,
   "id": "836d72cc-83fa-4767-a792-4ffe1bec49a3",
   "metadata": {},
   "outputs": [],
   "source": [
    "import numpy as np\n",
    "from aeon.classification.distance_based import KNeighborsTimeSeriesClassifier\n",
    "\n",
    "X = np.array([[[1, 2, 3, 4, 5, 5]],  # 3D array example (univariate)\n",
    "             [[1, 2, 3, 4, 4, 2]],   # Three samples, one channel,\n",
    "             [[8, 7, 6, 5, 4, 4]]])  # six series length\n",
    "y = np.array(['low', 'low', 'high'])  # class labels for each sample\n",
    "\n",
    "clf = KNeighborsTimeSeriesClassifier(distance=\"dtw\")\n",
    "clf.fit(X, y)  # fit the classifier on train data\n",
    "\n",
    "\n",
    "X_test = np.array(\n",
    "    [[[2, 2, 2, 2, 2, 2]], [[5, 5, 5, 5, 5, 5]], [[6, 6, 6, 6, 6, 6]]]\n",
    ")\n",
    "y_pred = clf.predict(X_test)  # make class predictions on new data\n"
   ]
  },
  {
   "cell_type": "code",
   "execution_count": 5,
   "id": "46436c6a-085c-4fcd-85c4-745fd4ea9d34",
   "metadata": {},
   "outputs": [
    {
     "data": {
      "text/plain": [
       "array(['low', 'high', 'high'], dtype='<U4')"
      ]
     },
     "execution_count": 5,
     "metadata": {},
     "output_type": "execute_result"
    }
   ],
   "source": [
    "y_pred"
   ]
  },
  {
   "cell_type": "code",
   "execution_count": null,
   "id": "7fc95a64-b319-4d60-8c84-648a93b0290f",
   "metadata": {},
   "outputs": [],
   "source": []
  },
  {
   "cell_type": "code",
   "execution_count": null,
   "id": "46b79eca-5c2b-4429-87d0-8a714002a0b9",
   "metadata": {},
   "outputs": [],
   "source": []
  },
  {
   "cell_type": "code",
   "execution_count": null,
   "id": "38fd939d-feb3-4554-9530-44d8b56238ee",
   "metadata": {},
   "outputs": [],
   "source": []
  },
  {
   "cell_type": "code",
   "execution_count": null,
   "id": "28a30c56-7ea7-4e7a-bd92-c5039e6550ff",
   "metadata": {},
   "outputs": [],
   "source": []
  },
  {
   "cell_type": "code",
   "execution_count": null,
   "id": "f2294223-4579-4065-b8d6-68faee190090",
   "metadata": {},
   "outputs": [],
   "source": []
  }
 ],
 "metadata": {
  "kernelspec": {
   "display_name": "Python 3 (ipykernel)",
   "language": "python",
   "name": "python3"
  },
  "language_info": {
   "codemirror_mode": {
    "name": "ipython",
    "version": 3
   },
   "file_extension": ".py",
   "mimetype": "text/x-python",
   "name": "python",
   "nbconvert_exporter": "python",
   "pygments_lexer": "ipython3",
   "version": "3.10.13"
  }
 },
 "nbformat": 4,
 "nbformat_minor": 5
}
