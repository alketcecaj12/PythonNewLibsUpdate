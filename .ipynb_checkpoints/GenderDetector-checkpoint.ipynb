{
 "cells": [
  {
   "cell_type": "markdown",
   "id": "f51cfb1c-25dd-4cc6-97cd-362401859f91",
   "metadata": {},
   "source": [
    "### Gender detector lib\n",
    "- pretty useful when you have a bunch of people names and you want to detect the gender on each name. "
   ]
  },
  {
   "cell_type": "code",
   "execution_count": 3,
   "id": "1419b39e-ba69-45b7-8330-257ca7d29754",
   "metadata": {},
   "outputs": [
    {
     "ename": "ImportError",
     "evalue": "cannot import name 'GenderDetector' from 'gender_detector' (/Users/alket/miniconda3/lib/python3.10/site-packages/gender_detector/__init__.py)",
     "output_type": "error",
     "traceback": [
      "\u001b[0;31m---------------------------------------------------------------------------\u001b[0m",
      "\u001b[0;31mImportError\u001b[0m                               Traceback (most recent call last)",
      "Cell \u001b[0;32mIn[3], line 1\u001b[0m\n\u001b[0;32m----> 1\u001b[0m \u001b[38;5;28;01mfrom\u001b[39;00m \u001b[38;5;21;01mgender_detector\u001b[39;00m \u001b[38;5;28;01mimport\u001b[39;00m GenderDetector\n\u001b[1;32m      2\u001b[0m detector \u001b[38;5;241m=\u001b[39m GenderDetector(\u001b[38;5;124m'\u001b[39m\u001b[38;5;124mus\u001b[39m\u001b[38;5;124m'\u001b[39m) \u001b[38;5;66;03m# It can also be ar, uk, uy.\u001b[39;00m\n\u001b[1;32m      3\u001b[0m detector\u001b[38;5;241m.\u001b[39mguess(\u001b[38;5;124m'\u001b[39m\u001b[38;5;124mAlket\u001b[39m\u001b[38;5;124m'\u001b[39m)\n",
      "\u001b[0;31mImportError\u001b[0m: cannot import name 'GenderDetector' from 'gender_detector' (/Users/alket/miniconda3/lib/python3.10/site-packages/gender_detector/__init__.py)"
     ]
    }
   ],
   "source": [
    "from gender_detector import GenderDetector\n",
    "detector = GenderDetector('us') # It can also be ar, uk, uy.\n",
    "detector.guess('Alket') # => 'male'"
   ]
  },
  {
   "cell_type": "code",
   "execution_count": null,
   "id": "cbebe593-ab4a-40d9-881f-b7709c10c7d0",
   "metadata": {},
   "outputs": [],
   "source": []
  },
  {
   "cell_type": "code",
   "execution_count": null,
   "id": "19f69416-80d2-4481-8a73-d743d1f85631",
   "metadata": {},
   "outputs": [],
   "source": []
  },
  {
   "cell_type": "code",
   "execution_count": null,
   "id": "ff564571-d2ec-4346-b120-d304ba21e62d",
   "metadata": {},
   "outputs": [],
   "source": []
  },
  {
   "cell_type": "code",
   "execution_count": null,
   "id": "02385ace-b323-48cc-8a46-7336354c8dd9",
   "metadata": {},
   "outputs": [],
   "source": []
  },
  {
   "cell_type": "code",
   "execution_count": null,
   "id": "22f5cfee-ea84-4778-a9c6-bb7822b1b4e6",
   "metadata": {},
   "outputs": [],
   "source": []
  },
  {
   "cell_type": "code",
   "execution_count": null,
   "id": "4bf6bd65-8454-4a78-bc78-ad09bbd0c276",
   "metadata": {},
   "outputs": [],
   "source": []
  }
 ],
 "metadata": {
  "kernelspec": {
   "display_name": "Python 3 (ipykernel)",
   "language": "python",
   "name": "python3"
  },
  "language_info": {
   "codemirror_mode": {
    "name": "ipython",
    "version": 3
   },
   "file_extension": ".py",
   "mimetype": "text/x-python",
   "name": "python",
   "nbconvert_exporter": "python",
   "pygments_lexer": "ipython3",
   "version": "3.10.13"
  }
 },
 "nbformat": 4,
 "nbformat_minor": 5
}
