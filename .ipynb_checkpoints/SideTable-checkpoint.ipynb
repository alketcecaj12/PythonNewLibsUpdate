{
 "cells": [
  {
   "cell_type": "code",
   "execution_count": 6,
   "id": "e9a2cc1c-d9de-43a2-888b-07d20691b902",
   "metadata": {},
   "outputs": [],
   "source": [
    "import sidetable"
   ]
  },
  {
   "cell_type": "code",
   "execution_count": 12,
   "id": "1432d7dc-55fd-499e-ae89-868cda12ab6f",
   "metadata": {},
   "outputs": [],
   "source": [
    "import hues"
   ]
  },
  {
   "cell_type": "code",
   "execution_count": 13,
   "id": "f2fe2fd3-6244-4ef3-82ec-6972f481ba77",
   "metadata": {},
   "outputs": [
    {
     "name": "stdout",
     "output_type": "stream",
     "text": [
      "\u001b[35m14:08:29\u001b[0m - \u001b[39mMission 42\u001b[0m\n"
     ]
    }
   ],
   "source": [
    "hues.log(\"Mission\", 42)"
   ]
  },
  {
   "cell_type": "code",
   "execution_count": 14,
   "id": "8990cc6f-aaf8-4171-bdc8-63a435453006",
   "metadata": {},
   "outputs": [
    {
     "name": "stdout",
     "output_type": "stream",
     "text": [
      "\u001b[35m14:08:51\u001b[0m - \u001b[36mINFO\u001b[0m - \u001b[39mFinding 42\u001b[0m\n"
     ]
    }
   ],
   "source": [
    "hues.info(\"Finding\", 42)"
   ]
  },
  {
   "cell_type": "code",
   "execution_count": 15,
   "id": "74c8ede9-36ab-4c0b-9564-f6f41aa818b1",
   "metadata": {},
   "outputs": [
    {
     "name": "stdout",
     "output_type": "stream",
     "text": [
      "\u001b[35m14:09:04\u001b[0m - \u001b[39mWe are distracted 42\u001b[0m\n"
     ]
    }
   ],
   "source": [
    "hues.log(\"We are distracted\", 42)"
   ]
  },
  {
   "cell_type": "code",
   "execution_count": 16,
   "id": "3ba25cec-ba9b-4109-9702-511e0b9c65bd",
   "metadata": {},
   "outputs": [
    {
     "name": "stdout",
     "output_type": "stream",
     "text": [
      "\u001b[35m14:09:42\u001b[0m - \u001b[31mERROR\u001b[0m - \u001b[39m41 is not  42\u001b[0m\n"
     ]
    }
   ],
   "source": [
    "hues.error(41, \"is not \", 42)"
   ]
  },
  {
   "cell_type": "code",
   "execution_count": 7,
   "id": "5aee51df-e1a4-4eb5-99df-129d2ecbcca6",
   "metadata": {},
   "outputs": [
    {
     "name": "stdout",
     "output_type": "stream",
     "text": [
      "ic| s: 'sup'\n"
     ]
    }
   ],
   "source": [
    "from icecream import ic\n",
    "s = 'sup'\n",
    "out = ic.format(s)\n",
    "print(out)\n"
   ]
  },
  {
   "cell_type": "code",
   "execution_count": null,
   "id": "f3507a24-c982-4a68-b3bb-5c3a2cf41798",
   "metadata": {},
   "outputs": [],
   "source": []
  },
  {
   "cell_type": "code",
   "execution_count": null,
   "id": "a600581b-88ed-4256-bf12-642f68e90dc6",
   "metadata": {},
   "outputs": [],
   "source": []
  },
  {
   "cell_type": "code",
   "execution_count": 10,
   "id": "dc52fc06-b3d7-4025-9583-ed958558d979",
   "metadata": {},
   "outputs": [
    {
     "name": "stdout",
     "output_type": "stream",
     "text": [
      "Requirement already satisfied: modin in /Users/alket/miniconda3/envs/myenv/lib/python3.10/site-packages (0.32.0)\n",
      "Requirement already satisfied: pandas<2.3,>=2.2 in /Users/alket/miniconda3/envs/myenv/lib/python3.10/site-packages (from modin) (2.2.3)\n",
      "Requirement already satisfied: packaging>=21.0 in /Users/alket/miniconda3/envs/myenv/lib/python3.10/site-packages (from modin) (23.2)\n",
      "Requirement already satisfied: numpy>=1.22.4 in /Users/alket/miniconda3/envs/myenv/lib/python3.10/site-packages (from modin) (1.24.3)\n",
      "Requirement already satisfied: fsspec>=2022.11.0 in /Users/alket/miniconda3/envs/myenv/lib/python3.10/site-packages (from modin) (2023.12.2)\n",
      "Requirement already satisfied: psutil>=5.8.0 in /Users/alket/miniconda3/envs/myenv/lib/python3.10/site-packages (from modin) (6.1.1)\n",
      "Requirement already satisfied: python-dateutil>=2.8.2 in /Users/alket/miniconda3/envs/myenv/lib/python3.10/site-packages (from pandas<2.3,>=2.2->modin) (2.8.2)\n",
      "Requirement already satisfied: pytz>=2020.1 in /Users/alket/miniconda3/envs/myenv/lib/python3.10/site-packages (from pandas<2.3,>=2.2->modin) (2023.3.post1)\n",
      "Requirement already satisfied: tzdata>=2022.7 in /Users/alket/miniconda3/envs/myenv/lib/python3.10/site-packages (from pandas<2.3,>=2.2->modin) (2023.3)\n",
      "Requirement already satisfied: six>=1.5 in /Users/alket/miniconda3/envs/myenv/lib/python3.10/site-packages (from python-dateutil>=2.8.2->pandas<2.3,>=2.2->modin) (1.16.0)\n"
     ]
    }
   ],
   "source": [
    "!pip install modin"
   ]
  },
  {
   "cell_type": "code",
   "execution_count": 11,
   "id": "ccc579f5-caec-47bb-be49-74ceeb4aa814",
   "metadata": {},
   "outputs": [
    {
     "name": "stderr",
     "output_type": "stream",
     "text": [
      "UserWarning: The pandas version installed (2.1.4) does not match the supported pandas version in Modin (2.2.X). This may cause undesired side effects!\n"
     ]
    },
    {
     "ename": "AttributeError",
     "evalue": "module 'pandas.core.arrays.arrow' has no attribute 'ListAccessor'",
     "output_type": "error",
     "traceback": [
      "\u001b[0;31m---------------------------------------------------------------------------\u001b[0m",
      "\u001b[0;31mAttributeError\u001b[0m                            Traceback (most recent call last)",
      "Cell \u001b[0;32mIn[11], line 1\u001b[0m\n\u001b[0;32m----> 1\u001b[0m \u001b[38;5;28;01mimport\u001b[39;00m \u001b[38;5;21;01mmodin\u001b[39;00m\u001b[38;5;21;01m.\u001b[39;00m\u001b[38;5;21;01mpandas\u001b[39;00m \u001b[38;5;28;01mas\u001b[39;00m \u001b[38;5;21;01mpd\u001b[39;00m\n",
      "File \u001b[0;32m~/miniconda3/envs/myenv/lib/python3.10/site-packages/modin/pandas/__init__.py:144\u001b[0m\n\u001b[1;32m    141\u001b[0m \u001b[38;5;28;01mfrom\u001b[39;00m \u001b[38;5;21;01mmodin\u001b[39;00m\u001b[38;5;21;01m.\u001b[39;00m\u001b[38;5;21;01mutils\u001b[39;00m \u001b[38;5;28;01mimport\u001b[39;00m show_versions\n\u001b[1;32m    143\u001b[0m \u001b[38;5;28;01mfrom\u001b[39;00m \u001b[38;5;21;01m.\u001b[39;00m\u001b[38;5;21;01m.\u001b[39;00m \u001b[38;5;28;01mimport\u001b[39;00m __version__\n\u001b[0;32m--> 144\u001b[0m \u001b[38;5;28;01mfrom\u001b[39;00m \u001b[38;5;21;01m.\u001b[39;00m\u001b[38;5;21;01mdataframe\u001b[39;00m \u001b[38;5;28;01mimport\u001b[39;00m DataFrame\n\u001b[1;32m    145\u001b[0m \u001b[38;5;28;01mfrom\u001b[39;00m \u001b[38;5;21;01m.\u001b[39;00m\u001b[38;5;21;01mgeneral\u001b[39;00m \u001b[38;5;28;01mimport\u001b[39;00m (\n\u001b[1;32m    146\u001b[0m     concat,\n\u001b[1;32m    147\u001b[0m     crosstab,\n\u001b[0;32m   (...)\u001b[0m\n\u001b[1;32m    167\u001b[0m     wide_to_long,\n\u001b[1;32m    168\u001b[0m )\n\u001b[1;32m    169\u001b[0m \u001b[38;5;28;01mfrom\u001b[39;00m \u001b[38;5;21;01m.\u001b[39;00m\u001b[38;5;21;01mio\u001b[39;00m \u001b[38;5;28;01mimport\u001b[39;00m (\n\u001b[1;32m    170\u001b[0m     ExcelFile,\n\u001b[1;32m    171\u001b[0m     HDFStore,\n\u001b[0;32m   (...)\u001b[0m\n\u001b[1;32m    193\u001b[0m     to_pickle,\n\u001b[1;32m    194\u001b[0m )\n",
      "File \u001b[0;32m~/miniconda3/envs/myenv/lib/python3.10/site-packages/modin/pandas/dataframe.py:76\u001b[0m\n\u001b[1;32m     74\u001b[0m \u001b[38;5;28;01mfrom\u001b[39;00m \u001b[38;5;21;01m.\u001b[39;00m\u001b[38;5;21;01maccessor\u001b[39;00m \u001b[38;5;28;01mimport\u001b[39;00m CachedAccessor, SparseFrameAccessor\n\u001b[1;32m     75\u001b[0m \u001b[38;5;28;01mfrom\u001b[39;00m \u001b[38;5;21;01m.\u001b[39;00m\u001b[38;5;21;01mbase\u001b[39;00m \u001b[38;5;28;01mimport\u001b[39;00m _ATTRS_NO_LOOKUP, BasePandasDataset\n\u001b[0;32m---> 76\u001b[0m \u001b[38;5;28;01mfrom\u001b[39;00m \u001b[38;5;21;01m.\u001b[39;00m\u001b[38;5;21;01mgroupby\u001b[39;00m \u001b[38;5;28;01mimport\u001b[39;00m DataFrameGroupBy\n\u001b[1;32m     77\u001b[0m \u001b[38;5;28;01mfrom\u001b[39;00m \u001b[38;5;21;01m.\u001b[39;00m\u001b[38;5;21;01miterator\u001b[39;00m \u001b[38;5;28;01mimport\u001b[39;00m PartitionIterator\n\u001b[1;32m     78\u001b[0m \u001b[38;5;28;01mfrom\u001b[39;00m \u001b[38;5;21;01m.\u001b[39;00m\u001b[38;5;21;01mseries\u001b[39;00m \u001b[38;5;28;01mimport\u001b[39;00m Series\n",
      "File \u001b[0;32m~/miniconda3/envs/myenv/lib/python3.10/site-packages/modin/pandas/groupby.py:53\u001b[0m\n\u001b[1;32m     43\u001b[0m \u001b[38;5;28;01mfrom\u001b[39;00m \u001b[38;5;21;01mmodin\u001b[39;00m\u001b[38;5;21;01m.\u001b[39;00m\u001b[38;5;21;01mpandas\u001b[39;00m\u001b[38;5;21;01m.\u001b[39;00m\u001b[38;5;21;01mutils\u001b[39;00m \u001b[38;5;28;01mimport\u001b[39;00m cast_function_modin2pandas\n\u001b[1;32m     44\u001b[0m \u001b[38;5;28;01mfrom\u001b[39;00m \u001b[38;5;21;01mmodin\u001b[39;00m\u001b[38;5;21;01m.\u001b[39;00m\u001b[38;5;21;01mutils\u001b[39;00m \u001b[38;5;28;01mimport\u001b[39;00m (\n\u001b[1;32m     45\u001b[0m     MODIN_UNNAMED_SERIES_LABEL,\n\u001b[1;32m     46\u001b[0m     _inherit_docstrings,\n\u001b[0;32m   (...)\u001b[0m\n\u001b[1;32m     50\u001b[0m     wrap_udf_function,\n\u001b[1;32m     51\u001b[0m )\n\u001b[0;32m---> 53\u001b[0m \u001b[38;5;28;01mfrom\u001b[39;00m \u001b[38;5;21;01m.\u001b[39;00m\u001b[38;5;21;01mseries\u001b[39;00m \u001b[38;5;28;01mimport\u001b[39;00m Series\n\u001b[1;32m     54\u001b[0m \u001b[38;5;28;01mfrom\u001b[39;00m \u001b[38;5;21;01m.\u001b[39;00m\u001b[38;5;21;01mutils\u001b[39;00m \u001b[38;5;28;01mimport\u001b[39;00m is_label\n\u001b[1;32m     55\u001b[0m \u001b[38;5;28;01mfrom\u001b[39;00m \u001b[38;5;21;01m.\u001b[39;00m\u001b[38;5;21;01mwindow\u001b[39;00m \u001b[38;5;28;01mimport\u001b[39;00m RollingGroupby\n",
      "File \u001b[0;32m~/miniconda3/envs/myenv/lib/python3.10/site-packages/modin/pandas/series.py:46\u001b[0m\n\u001b[1;32m     44\u001b[0m \u001b[38;5;28;01mfrom\u001b[39;00m \u001b[38;5;21;01m.\u001b[39;00m\u001b[38;5;21;01mbase\u001b[39;00m \u001b[38;5;28;01mimport\u001b[39;00m _ATTRS_NO_LOOKUP, BasePandasDataset\n\u001b[1;32m     45\u001b[0m \u001b[38;5;28;01mfrom\u001b[39;00m \u001b[38;5;21;01m.\u001b[39;00m\u001b[38;5;21;01miterator\u001b[39;00m \u001b[38;5;28;01mimport\u001b[39;00m PartitionIterator\n\u001b[0;32m---> 46\u001b[0m \u001b[38;5;28;01mfrom\u001b[39;00m \u001b[38;5;21;01m.\u001b[39;00m\u001b[38;5;21;01mseries_utils\u001b[39;00m \u001b[38;5;28;01mimport\u001b[39;00m (\n\u001b[1;32m     47\u001b[0m     CategoryMethods,\n\u001b[1;32m     48\u001b[0m     DatetimeProperties,\n\u001b[1;32m     49\u001b[0m     ListAccessor,\n\u001b[1;32m     50\u001b[0m     StringMethods,\n\u001b[1;32m     51\u001b[0m     StructAccessor,\n\u001b[1;32m     52\u001b[0m )\n\u001b[1;32m     53\u001b[0m \u001b[38;5;28;01mfrom\u001b[39;00m \u001b[38;5;21;01m.\u001b[39;00m\u001b[38;5;21;01mutils\u001b[39;00m \u001b[38;5;28;01mimport\u001b[39;00m _doc_binary_op, cast_function_modin2pandas, is_scalar\n\u001b[1;32m     55\u001b[0m \u001b[38;5;28;01mif\u001b[39;00m TYPE_CHECKING:\n",
      "File \u001b[0;32m~/miniconda3/envs/myenv/lib/python3.10/site-packages/modin/pandas/series_utils.py:41\u001b[0m\n\u001b[1;32m     37\u001b[0m     \u001b[38;5;28;01mfrom\u001b[39;00m \u001b[38;5;21;01mmodin\u001b[39;00m\u001b[38;5;21;01m.\u001b[39;00m\u001b[38;5;21;01mcore\u001b[39;00m\u001b[38;5;21;01m.\u001b[39;00m\u001b[38;5;21;01mstorage_formats\u001b[39;00m \u001b[38;5;28;01mimport\u001b[39;00m BaseQueryCompiler\n\u001b[1;32m     38\u001b[0m     \u001b[38;5;28;01mfrom\u001b[39;00m \u001b[38;5;21;01mmodin\u001b[39;00m\u001b[38;5;21;01m.\u001b[39;00m\u001b[38;5;21;01mpandas\u001b[39;00m \u001b[38;5;28;01mimport\u001b[39;00m Series\n\u001b[0;32m---> 41\u001b[0m \u001b[38;5;129m@_inherit_docstrings\u001b[39m(\u001b[43mpandas\u001b[49m\u001b[38;5;241;43m.\u001b[39;49m\u001b[43mcore\u001b[49m\u001b[38;5;241;43m.\u001b[39;49m\u001b[43marrays\u001b[49m\u001b[38;5;241;43m.\u001b[39;49m\u001b[43marrow\u001b[49m\u001b[38;5;241;43m.\u001b[39;49m\u001b[43mListAccessor\u001b[49m)\n\u001b[1;32m     42\u001b[0m \u001b[38;5;28;01mclass\u001b[39;00m \u001b[38;5;21;01mListAccessor\u001b[39;00m(ClassLogger):\n\u001b[1;32m     43\u001b[0m     _series: Series\n\u001b[1;32m     44\u001b[0m     _query_compiler: BaseQueryCompiler\n",
      "\u001b[0;31mAttributeError\u001b[0m: module 'pandas.core.arrays.arrow' has no attribute 'ListAccessor'"
     ]
    }
   ],
   "source": [
    "import modin.pandas as pd "
   ]
  },
  {
   "cell_type": "code",
   "execution_count": null,
   "id": "08cfd446-1ef4-417e-b7da-220421e9a81c",
   "metadata": {},
   "outputs": [],
   "source": []
  },
  {
   "cell_type": "code",
   "execution_count": null,
   "id": "9b60e89b-1013-4aa5-9570-0f3f4e167610",
   "metadata": {},
   "outputs": [],
   "source": []
  },
  {
   "cell_type": "code",
   "execution_count": null,
   "id": "86b45526-39ab-4b8a-87d7-38dbdd5b9d8e",
   "metadata": {},
   "outputs": [],
   "source": []
  },
  {
   "cell_type": "code",
   "execution_count": null,
   "id": "c3e11b09-11d5-403b-8630-adbef938a70f",
   "metadata": {},
   "outputs": [],
   "source": []
  },
  {
   "cell_type": "code",
   "execution_count": null,
   "id": "5342826e-b95f-44b0-a1e0-1bcd8bc06208",
   "metadata": {},
   "outputs": [],
   "source": []
  },
  {
   "cell_type": "code",
   "execution_count": null,
   "id": "ce187cec-432e-4961-818b-d2389caba8bf",
   "metadata": {},
   "outputs": [],
   "source": []
  }
 ],
 "metadata": {
  "kernelspec": {
   "display_name": "Python 3 (ipykernel)",
   "language": "python",
   "name": "python3"
  },
  "language_info": {
   "codemirror_mode": {
    "name": "ipython",
    "version": 3
   },
   "file_extension": ".py",
   "mimetype": "text/x-python",
   "name": "python",
   "nbconvert_exporter": "python",
   "pygments_lexer": "ipython3",
   "version": "3.10.13"
  }
 },
 "nbformat": 4,
 "nbformat_minor": 5
}
