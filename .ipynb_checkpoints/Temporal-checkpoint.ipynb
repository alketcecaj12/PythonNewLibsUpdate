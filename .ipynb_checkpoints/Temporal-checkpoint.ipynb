{
 "cells": [
  {
   "cell_type": "markdown",
   "id": "0890e46e-646f-4226-945f-a8e78d78b036",
   "metadata": {},
   "source": [
    "## Temporals\n",
    "- The goal of this library is to provide a minimalistic, out-of-the-box utility on top of the Python's datetime in regards to working with time and date, or both, periods."
   ]
  },
  {
   "cell_type": "code",
   "execution_count": 3,
   "id": "f3328269-5438-47a8-af45-b497e6aaecce",
   "metadata": {},
   "outputs": [
    {
     "name": "stdout",
     "output_type": "stream",
     "text": [
      "True\n",
      "17:30:00/18:00:00\n"
     ]
    }
   ],
   "source": [
    "from datetime import time\n",
    "from temporals import TimePeriod\n",
    "\n",
    "workday = TimePeriod(start=time(8, 0), end=time(18, 0))\n",
    "# Do you have an important call scheduled?\n",
    "client_call = time(13, 0)\n",
    "print(client_call in workday)  # True\n",
    "\n",
    "# Or maybe you have an appointment and you want to see if it overlaps with your work hours?\n",
    "appointment = TimePeriod(start=time(17, 30), end=time(18, 15))\n",
    "appointment.overlaps_with(workday)  # True\n",
    "\n",
    "# Let's see what's the overlap like, so you can plan accordingly\n",
    "overlap = appointment.get_overlap(workday)  # get_overlap returns a TimePeriod\n",
    "print(overlap)  # 17:30:00/18:00:00"
   ]
  },
  {
   "cell_type": "code",
   "execution_count": null,
   "id": "730a3f94-9bf5-4cd6-8cf4-b79bb9e7fea4",
   "metadata": {},
   "outputs": [],
   "source": []
  },
  {
   "cell_type": "code",
   "execution_count": null,
   "id": "2c43446f-ee7b-41fe-ac13-176574eea77a",
   "metadata": {},
   "outputs": [],
   "source": []
  },
  {
   "cell_type": "code",
   "execution_count": null,
   "id": "28cbaa38-3052-448c-ae48-df03353c8ea4",
   "metadata": {},
   "outputs": [],
   "source": []
  },
  {
   "cell_type": "code",
   "execution_count": null,
   "id": "3beb20ac-48c5-4794-8b24-2f1f64c52665",
   "metadata": {},
   "outputs": [],
   "source": []
  },
  {
   "cell_type": "code",
   "execution_count": null,
   "id": "45a40500-75eb-4fa9-a916-f54af8932bd1",
   "metadata": {},
   "outputs": [],
   "source": []
  },
  {
   "cell_type": "code",
   "execution_count": null,
   "id": "016dc98c-ec8e-42b2-8dad-59536282d41e",
   "metadata": {},
   "outputs": [],
   "source": []
  },
  {
   "cell_type": "code",
   "execution_count": null,
   "id": "682616ee-4885-4a91-94d9-d00d223ab287",
   "metadata": {},
   "outputs": [],
   "source": []
  },
  {
   "cell_type": "code",
   "execution_count": null,
   "id": "1c1770f2-1eac-4455-a26e-c6fa07fff4d3",
   "metadata": {},
   "outputs": [],
   "source": []
  },
  {
   "cell_type": "code",
   "execution_count": null,
   "id": "34d03fc9-4937-4ac0-848a-4f05559aa834",
   "metadata": {},
   "outputs": [],
   "source": []
  },
  {
   "cell_type": "code",
   "execution_count": null,
   "id": "7b6f9904-7244-4097-a9fc-493fc8ba063d",
   "metadata": {},
   "outputs": [],
   "source": []
  },
  {
   "cell_type": "code",
   "execution_count": null,
   "id": "0e847584-ee45-4e6e-9411-2c6901b70f8a",
   "metadata": {},
   "outputs": [],
   "source": []
  }
 ],
 "metadata": {
  "kernelspec": {
   "display_name": "Python 3 (ipykernel)",
   "language": "python",
   "name": "python3"
  },
  "language_info": {
   "codemirror_mode": {
    "name": "ipython",
    "version": 3
   },
   "file_extension": ".py",
   "mimetype": "text/x-python",
   "name": "python",
   "nbconvert_exporter": "python",
   "pygments_lexer": "ipython3",
   "version": "3.10.13"
  }
 },
 "nbformat": 4,
 "nbformat_minor": 5
}
