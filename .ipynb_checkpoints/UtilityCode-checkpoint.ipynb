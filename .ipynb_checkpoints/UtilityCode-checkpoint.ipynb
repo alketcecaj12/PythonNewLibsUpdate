{
 "cells": [
  {
   "cell_type": "markdown",
   "id": "aca6ba43-3b80-4975-acb4-7f8411b04679",
   "metadata": {},
   "source": [
    "# Transform a timestamp to human readable date.\n",
    "To transform a timestamp like 1730125723.210754 into a formatted date string in Python, you can use the datetime module. Here's how you can do it:"
   ]
  },
  {
   "cell_type": "code",
   "execution_count": 3,
   "id": "6310bfc4-fb0d-4c6e-8457-b59103bfc79c",
   "metadata": {},
   "outputs": [
    {
     "name": "stdout",
     "output_type": "stream",
     "text": [
      "2024-10-28 14:28:43 +0000\n"
     ]
    }
   ],
   "source": [
    "from datetime import datetime, timezone\n",
    "\n",
    "# Given timestamp\n",
    "timestamp = 1730125723.210754\n",
    "\n",
    "# Convert timestamp to datetime object\n",
    "date_time = datetime.fromtimestamp(timestamp, tz=timezone.utc)\n",
    "\n",
    "# Format datetime object to string\n",
    "formatted_date = date_time.strftime('%Y-%m-%d %H:%M:%S %z')\n",
    "\n",
    "print(formatted_date)"
   ]
  },
  {
   "cell_type": "code",
   "execution_count": null,
   "id": "a690c621-b955-429c-9434-18f7d5020b19",
   "metadata": {},
   "outputs": [],
   "source": []
  },
  {
   "cell_type": "code",
   "execution_count": null,
   "id": "eec74c29-79fc-4454-b3a5-c2edaf1f4772",
   "metadata": {},
   "outputs": [],
   "source": []
  },
  {
   "cell_type": "code",
   "execution_count": null,
   "id": "7bcb70c1-c943-4e5e-a139-e8531aa124ac",
   "metadata": {},
   "outputs": [],
   "source": []
  },
  {
   "cell_type": "code",
   "execution_count": null,
   "id": "dca603e1-1320-4be3-ad2c-0207bdeecd7b",
   "metadata": {},
   "outputs": [],
   "source": []
  },
  {
   "cell_type": "code",
   "execution_count": null,
   "id": "6c69bfc4-898f-46c6-9616-8d243907be0b",
   "metadata": {},
   "outputs": [],
   "source": []
  },
  {
   "cell_type": "code",
   "execution_count": null,
   "id": "c756bef6-abb8-4f4d-a169-34532909ca74",
   "metadata": {},
   "outputs": [],
   "source": []
  },
  {
   "cell_type": "code",
   "execution_count": null,
   "id": "8c7c348e-75a1-4d15-a937-ec6dd0461e3a",
   "metadata": {},
   "outputs": [],
   "source": []
  },
  {
   "cell_type": "code",
   "execution_count": null,
   "id": "02b84d02-9666-404e-bc85-277c2593644c",
   "metadata": {},
   "outputs": [],
   "source": []
  }
 ],
 "metadata": {
  "kernelspec": {
   "display_name": "Python 3 (ipykernel)",
   "language": "python",
   "name": "python3"
  },
  "language_info": {
   "codemirror_mode": {
    "name": "ipython",
    "version": 3
   },
   "file_extension": ".py",
   "mimetype": "text/x-python",
   "name": "python",
   "nbconvert_exporter": "python",
   "pygments_lexer": "ipython3",
   "version": "3.10.13"
  }
 },
 "nbformat": 4,
 "nbformat_minor": 5
}
