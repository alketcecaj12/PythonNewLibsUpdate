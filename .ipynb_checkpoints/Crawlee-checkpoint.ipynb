{
 "cells": [
  {
   "cell_type": "code",
   "execution_count": 2,
   "id": "3bca2038-eb59-4a05-874c-f13ac6e89d4b",
   "metadata": {},
   "outputs": [],
   "source": [
    "import asyncio\n",
    "\n",
    "from crawlee.crawlers import BeautifulSoupCrawler, BeautifulSoupCrawlingContext\n",
    "\n",
    "async def main() -> None:\n",
    "    crawler = BeautifulSoupCrawler(\n",
    "        # Limit the crawl to max requests. Remove or increase it for crawling all links.\n",
    "        max_requests_per_crawl=10,\n",
    "    )\n",
    "\n",
    "    # Define the default request handler, which will be called for every request.\n",
    "    @crawler.router.default_handler\n",
    "    async def request_handler(context: BeautifulSoupCrawlingContext) -> None:\n",
    "        context.log.info(f'Processing {context.request.url} ...')\n",
    "\n",
    "        # Extract data from the page.\n",
    "        data = {\n",
    "            'url': context.request.url,\n",
    "            'title': context.soup.title.string if context.soup.title else None,\n",
    "        }\n",
    "\n",
    "        # Push the extracted data to the default dataset.\n",
    "        await context.push_data(data)\n",
    "\n",
    "        # Enqueue all links found on the page.\n",
    "        await context.enqueue_links()\n",
    "\n",
    "    # Run the crawler with the initial list of URLs.\n",
    "    await crawler.run(['https://crawlee.dev'])\n"
   ]
  },
  {
   "cell_type": "code",
   "execution_count": 3,
   "id": "0bbea022-1cab-499f-aae5-5a160c7538d3",
   "metadata": {},
   "outputs": [
    {
     "data": {
      "text/plain": [
       "<coroutine object main at 0x10ce9d000>"
      ]
     },
     "execution_count": 3,
     "metadata": {},
     "output_type": "execute_result"
    }
   ],
   "source": [
    "main()"
   ]
  },
  {
   "cell_type": "code",
   "execution_count": null,
   "id": "e27e919a-2522-4a95-a73e-01669d5eae0a",
   "metadata": {},
   "outputs": [],
   "source": []
  },
  {
   "cell_type": "code",
   "execution_count": null,
   "id": "a6d7cdf6-69b8-4f22-b728-464039bdb8ac",
   "metadata": {},
   "outputs": [],
   "source": []
  },
  {
   "cell_type": "code",
   "execution_count": null,
   "id": "025386e9-b404-487d-94d0-d39859e7b669",
   "metadata": {},
   "outputs": [],
   "source": []
  },
  {
   "cell_type": "code",
   "execution_count": null,
   "id": "66cdee2b-faeb-4165-8af1-be4090df81db",
   "metadata": {},
   "outputs": [],
   "source": []
  },
  {
   "cell_type": "code",
   "execution_count": null,
   "id": "35519f3c-d793-4b8d-9955-67633690d3a0",
   "metadata": {},
   "outputs": [],
   "source": []
  },
  {
   "cell_type": "code",
   "execution_count": null,
   "id": "e61c97bb-5097-4e21-9894-8f14ae752bb8",
   "metadata": {},
   "outputs": [],
   "source": []
  },
  {
   "cell_type": "code",
   "execution_count": null,
   "id": "51c680db-84bd-4abc-8d59-5e00600ea59b",
   "metadata": {},
   "outputs": [],
   "source": []
  },
  {
   "cell_type": "code",
   "execution_count": null,
   "id": "f6ec187f-9e71-4066-896f-ad9bc89fe438",
   "metadata": {},
   "outputs": [],
   "source": []
  },
  {
   "cell_type": "code",
   "execution_count": null,
   "id": "87bff1c8-00d5-418c-8e1d-2904122503d5",
   "metadata": {},
   "outputs": [],
   "source": []
  }
 ],
 "metadata": {
  "kernelspec": {
   "display_name": "Python 3 (ipykernel)",
   "language": "python",
   "name": "python3"
  },
  "language_info": {
   "codemirror_mode": {
    "name": "ipython",
    "version": 3
   },
   "file_extension": ".py",
   "mimetype": "text/x-python",
   "name": "python",
   "nbconvert_exporter": "python",
   "pygments_lexer": "ipython3",
   "version": "3.10.13"
  }
 },
 "nbformat": 4,
 "nbformat_minor": 5
}
