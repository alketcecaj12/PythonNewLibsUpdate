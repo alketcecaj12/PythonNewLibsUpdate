{
 "cells": [
  {
   "cell_type": "markdown",
   "id": "8e1f01df-03f4-42a6-a0b4-cbced9751091",
   "metadata": {},
   "source": [
    "### Create fake data to populate a database"
   ]
  },
  {
   "cell_type": "code",
   "execution_count": 8,
   "id": "1419b39e-ba69-45b7-8330-257ca7d29754",
   "metadata": {},
   "outputs": [
    {
     "data": {
      "text/plain": [
       "'Author class challenge president war enjoy test. Name run create lose gun though analysis. Alone amount positive five wear head.'"
      ]
     },
     "execution_count": 8,
     "metadata": {},
     "output_type": "execute_result"
    }
   ],
   "source": [
    "from faker import Faker\n",
    "fake = Faker()\n",
    "\n",
    "fake.name()\n",
    "# 'Lucy Cechtelar'\n",
    "\n",
    "fake.address()\n",
    "# '426 Jordy Lodge\n",
    "#  Cartwrightshire, SC 88120-6700'\n",
    "\n",
    "fake.text()"
   ]
  },
  {
   "cell_type": "code",
   "execution_count": 9,
   "id": "9d4e19bb-615c-4ec2-9a02-ccc239fdd9bc",
   "metadata": {},
   "outputs": [
    {
     "name": "stdout",
     "output_type": "stream",
     "text": [
      "Hannah Smith\n",
      "Cathy Duran\n",
      "Michael Small\n",
      "Diana Marshall\n",
      "Karen Gibbs\n",
      "Ashley Shah\n",
      "Bradley Martinez\n",
      "Rebecca Flores\n",
      "Ana Stark\n",
      "Brian Strickland\n"
     ]
    }
   ],
   "source": [
    "for _ in range(10):\n",
    "  print(fake.name())"
   ]
  },
  {
   "cell_type": "code",
   "execution_count": null,
   "id": "19f69416-80d2-4481-8a73-d743d1f85631",
   "metadata": {},
   "outputs": [],
   "source": []
  },
  {
   "cell_type": "code",
   "execution_count": null,
   "id": "ff564571-d2ec-4346-b120-d304ba21e62d",
   "metadata": {},
   "outputs": [],
   "source": []
  },
  {
   "cell_type": "code",
   "execution_count": null,
   "id": "02385ace-b323-48cc-8a46-7336354c8dd9",
   "metadata": {},
   "outputs": [],
   "source": []
  },
  {
   "cell_type": "code",
   "execution_count": null,
   "id": "22f5cfee-ea84-4778-a9c6-bb7822b1b4e6",
   "metadata": {},
   "outputs": [],
   "source": []
  },
  {
   "cell_type": "code",
   "execution_count": null,
   "id": "4bf6bd65-8454-4a78-bc78-ad09bbd0c276",
   "metadata": {},
   "outputs": [],
   "source": []
  },
  {
   "cell_type": "code",
   "execution_count": null,
   "id": "86410737-0809-4444-a903-6f4e32d8d2d5",
   "metadata": {},
   "outputs": [],
   "source": []
  }
 ],
 "metadata": {
  "kernelspec": {
   "display_name": "Python 3 (ipykernel)",
   "language": "python",
   "name": "python3"
  },
  "language_info": {
   "codemirror_mode": {
    "name": "ipython",
    "version": 3
   },
   "file_extension": ".py",
   "mimetype": "text/x-python",
   "name": "python",
   "nbconvert_exporter": "python",
   "pygments_lexer": "ipython3",
   "version": "3.10.13"
  }
 },
 "nbformat": 4,
 "nbformat_minor": 5
}
