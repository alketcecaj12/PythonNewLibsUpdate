{
 "cells": [
  {
   "cell_type": "markdown",
   "id": "d1a0a2ad-d250-461b-861e-2b00428d2fb5",
   "metadata": {},
   "source": [
    "## PyDeck"
   ]
  },
  {
   "cell_type": "code",
   "execution_count": 2,
   "id": "58093127-9cbc-4bf5-a8f2-a97b5c45bfa2",
   "metadata": {},
   "outputs": [
    {
     "name": "stderr",
     "output_type": "stream",
     "text": [
      "/Users/alket/miniconda3/envs/myenv/lib/python3.10/site-packages/pandas/core/arrays/masked.py:60: UserWarning: Pandas requires version '1.3.6' or newer of 'bottleneck' (version '1.3.5' currently installed).\n",
      "  from pandas.core import (\n"
     ]
    }
   ],
   "source": [
    "import pydeck as pdk \n",
    "import pandas as pd"
   ]
  },
  {
   "cell_type": "code",
   "execution_count": 4,
   "id": "ba49d810-a775-4687-baf8-64a02c2c07e9",
   "metadata": {},
   "outputs": [],
   "source": [
    "data = pd.DataFrame({\n",
    "    'latitude':[37.7, 40.3, 34.4],\n",
    "    'longitude':[-122.7, -74.3, -118.4],\n",
    "    'city': ['San Francisco', 'New York', 'Los Angeles']\n",
    "})"
   ]
  },
  {
   "cell_type": "code",
   "execution_count": 5,
   "id": "f21d6b6d-eff5-4ee4-ae5e-3b90faff5bbd",
   "metadata": {},
   "outputs": [
    {
     "data": {
      "text/html": [
       "<div>\n",
       "<style scoped>\n",
       "    .dataframe tbody tr th:only-of-type {\n",
       "        vertical-align: middle;\n",
       "    }\n",
       "\n",
       "    .dataframe tbody tr th {\n",
       "        vertical-align: top;\n",
       "    }\n",
       "\n",
       "    .dataframe thead th {\n",
       "        text-align: right;\n",
       "    }\n",
       "</style>\n",
       "<table border=\"1\" class=\"dataframe\">\n",
       "  <thead>\n",
       "    <tr style=\"text-align: right;\">\n",
       "      <th></th>\n",
       "      <th>latitude</th>\n",
       "      <th>longitude</th>\n",
       "      <th>city</th>\n",
       "    </tr>\n",
       "  </thead>\n",
       "  <tbody>\n",
       "    <tr>\n",
       "      <th>0</th>\n",
       "      <td>37.7</td>\n",
       "      <td>-122.7</td>\n",
       "      <td>San Francisco</td>\n",
       "    </tr>\n",
       "    <tr>\n",
       "      <th>1</th>\n",
       "      <td>40.3</td>\n",
       "      <td>-74.3</td>\n",
       "      <td>New York</td>\n",
       "    </tr>\n",
       "    <tr>\n",
       "      <th>2</th>\n",
       "      <td>34.4</td>\n",
       "      <td>-118.4</td>\n",
       "      <td>Los Angeles</td>\n",
       "    </tr>\n",
       "  </tbody>\n",
       "</table>\n",
       "</div>"
      ],
      "text/plain": [
       "   latitude  longitude           city\n",
       "0      37.7     -122.7  San Francisco\n",
       "1      40.3      -74.3       New York\n",
       "2      34.4     -118.4    Los Angeles"
      ]
     },
     "execution_count": 5,
     "metadata": {},
     "output_type": "execute_result"
    }
   ],
   "source": [
    "data"
   ]
  },
  {
   "cell_type": "code",
   "execution_count": 6,
   "id": "b6c9ae08-448b-447b-beb7-700fa2afa3a0",
   "metadata": {},
   "outputs": [
    {
     "data": {
      "text/html": [
       "\n",
       "        <iframe\n",
       "            width=\"100%\"\n",
       "            height=500\n",
       "            frameborder=\"0\"\n",
       "            srcdoc=\"&lt;!DOCTYPE html&gt;\n",
       "&lt;html&gt;\n",
       "  &lt;head&gt;\n",
       "    &lt;meta http-equiv=&quot;content-type&quot; content=&quot;text/html; charset=UTF-8&quot; /&gt;\n",
       "    &lt;title&gt;pydeck&lt;/title&gt;\n",
       "        &lt;script src=&quot;https://api.tiles.mapbox.com/mapbox-gl-js/v1.13.0/mapbox-gl.js&quot;&gt;&lt;/script&gt;\n",
       "        &lt;link rel=&quot;stylesheet&quot; href=&quot;https://maxcdn.bootstrapcdn.com/bootstrap/3.2.0/css/bootstrap-theme.min.css&quot; /&gt;\n",
       "    &lt;link rel=&quot;stylesheet&quot; href=&quot;https://maxcdn.bootstrapcdn.com/font-awesome/4.6.3/css/font-awesome.min.css&quot; /&gt;\n",
       "    &lt;script src=&#x27;https://cdn.jsdelivr.net/npm/@deck.gl/jupyter-widget@~9.0.*/dist/index.js&#x27;&gt;&lt;/script&gt;\n",
       "    &lt;style&gt;\n",
       "    body {\n",
       "  margin: 0;\n",
       "  padding: 0;\n",
       "  overflow: hidden;\n",
       "}\n",
       "\n",
       "#deck-container {\n",
       "  width: 100vw;\n",
       "  height: 100vh;\n",
       "}\n",
       "\n",
       "#deck-container canvas {\n",
       "  z-index: 1;\n",
       "  background: none;\n",
       "}\n",
       "    &lt;/style&gt;\n",
       "  &lt;/head&gt;\n",
       "  &lt;body&gt;\n",
       "    &lt;div id=&quot;deck-container&quot;&gt;\n",
       "    &lt;/div&gt;\n",
       "  &lt;/body&gt;\n",
       "  &lt;script&gt;\n",
       "    const container = document.getElementById(&#x27;deck-container&#x27;);\n",
       "    const jsonInput = {\n",
       "  &quot;initialViewState&quot;: {\n",
       "    &quot;latitude&quot;: 0,\n",
       "    &quot;longitude&quot;: 0,\n",
       "    &quot;zoom&quot;: 1\n",
       "  },\n",
       "  &quot;layers&quot;: [\n",
       "    {\n",
       "      &quot;@@type&quot;: &quot;scatter layer&quot;,\n",
       "      &quot;data&quot;: [\n",
       "        {\n",
       "          &quot;city&quot;: &quot;San Francisco&quot;,\n",
       "          &quot;latitude&quot;: 37.7,\n",
       "          &quot;longitude&quot;: -122.7\n",
       "        },\n",
       "        {\n",
       "          &quot;city&quot;: &quot;New York&quot;,\n",
       "          &quot;latitude&quot;: 40.3,\n",
       "          &quot;longitude&quot;: -74.3\n",
       "        },\n",
       "        {\n",
       "          &quot;city&quot;: &quot;Los Angeles&quot;,\n",
       "          &quot;latitude&quot;: 34.4,\n",
       "          &quot;longitude&quot;: -118.4\n",
       "        }\n",
       "      ],\n",
       "      &quot;getColor&quot;: &quot;@@=[200, 30, 0, 160]&quot;,\n",
       "      &quot;getPosition&quot;: &quot;@@=[longitude, latitude]&quot;,\n",
       "      &quot;getRadius&quot;: 50000,\n",
       "      &quot;id&quot;: &quot;cb2ed337-8585-4118-8f40-34727cdc723c&quot;\n",
       "    }\n",
       "  ],\n",
       "  &quot;mapProvider&quot;: &quot;carto&quot;,\n",
       "  &quot;mapStyle&quot;: &quot;https://basemaps.cartocdn.com/gl/dark-matter-gl-style/style.json&quot;,\n",
       "  &quot;views&quot;: [\n",
       "    {\n",
       "      &quot;@@type&quot;: &quot;MapView&quot;,\n",
       "      &quot;controller&quot;: true\n",
       "    }\n",
       "  ]\n",
       "};\n",
       "    const tooltip = true;\n",
       "    const customLibraries = null;\n",
       "    const configuration = null;\n",
       "\n",
       "    const deckInstance = createDeck({\n",
       "                  container,\n",
       "      jsonInput,\n",
       "      tooltip,\n",
       "      customLibraries,\n",
       "      configuration\n",
       "    });\n",
       "\n",
       "  &lt;/script&gt;\n",
       "&lt;/html&gt;\"\n",
       "        ></iframe>\n",
       "    "
      ],
      "text/plain": [
       "<IPython.core.display.HTML object>"
      ]
     },
     "execution_count": 6,
     "metadata": {},
     "output_type": "execute_result"
    }
   ],
   "source": [
    "scatter_layer = pdk.Layer(\n",
    "\n",
    "'scatter layer',\n",
    "data,\n",
    "get_position = ['longitude', 'latitude'],    \n",
    "get_color = '[200, 30, 0, 160]',\n",
    "get_radius =  50000,   \n",
    ")\n",
    "\n",
    "deck = pdk.Deck(layers = [scatter_layer])\n",
    "deck.show()"
   ]
  },
  {
   "cell_type": "markdown",
   "id": "cc437bc6-b580-48f8-aaf0-4a92403d73f8",
   "metadata": {},
   "source": [
    "### Real world usecases\n",
    "\n",
    "- PyDeck can be used by urban planners to visualize transpoortation data, real-time car positions, traffic congestion heatmaps etc.."
   ]
  },
  {
   "cell_type": "code",
   "execution_count": null,
   "id": "681bc224-d8c8-4253-b4e2-e75065098ad0",
   "metadata": {},
   "outputs": [],
   "source": []
  },
  {
   "cell_type": "code",
   "execution_count": null,
   "id": "2671f6e2-2df7-45f5-94c4-d2950af706d1",
   "metadata": {},
   "outputs": [],
   "source": []
  },
  {
   "cell_type": "code",
   "execution_count": null,
   "id": "336c6752-1bd7-41c9-ac19-a5e6553ec07a",
   "metadata": {},
   "outputs": [],
   "source": []
  },
  {
   "cell_type": "code",
   "execution_count": null,
   "id": "c2bb2c82-7316-4df0-87cb-877b05aae582",
   "metadata": {},
   "outputs": [],
   "source": []
  },
  {
   "cell_type": "code",
   "execution_count": null,
   "id": "e615ebf4-df0c-43cf-8e9a-ca8d9c615413",
   "metadata": {},
   "outputs": [],
   "source": []
  },
  {
   "cell_type": "code",
   "execution_count": null,
   "id": "dcec2879-f1b8-4303-ab70-569ec5effbaf",
   "metadata": {},
   "outputs": [],
   "source": []
  },
  {
   "cell_type": "code",
   "execution_count": null,
   "id": "a3386859-c616-45ee-aa6c-a90de3466f6e",
   "metadata": {},
   "outputs": [],
   "source": []
  }
 ],
 "metadata": {
  "kernelspec": {
   "display_name": "Python 3 (ipykernel)",
   "language": "python",
   "name": "python3"
  },
  "language_info": {
   "codemirror_mode": {
    "name": "ipython",
    "version": 3
   },
   "file_extension": ".py",
   "mimetype": "text/x-python",
   "name": "python",
   "nbconvert_exporter": "python",
   "pygments_lexer": "ipython3",
   "version": "3.10.13"
  }
 },
 "nbformat": 4,
 "nbformat_minor": 5
}
