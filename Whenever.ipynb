{
 "cells": [
  {
   "cell_type": "markdown",
   "id": "42cc7dbc-3ba4-4b84-a387-89a99c8a97ac",
   "metadata": {},
   "source": [
    "# Whenever\n",
    "\n",
    "- Working with dates and times in Python can often feel like stepping into a minefield. From distinguishing naive and timezone-aware datetime objects to handling Daylight Saving Time (DST) quirks, even seasoned developers can find themselves debugging unexpected errors. If you’ve ever wished for a tool that eliminates these challenges while delivering high performance, meet Whenever—a groundbreaking library for typed, DST-safe datetime operations.\n",
    "\n",
    "- At its core, Whenever is designed to help developers write correct, type-checked datetime code effortlessly. Its approach transforms common pitfalls into IDE-detected issues, ensuring that bugs are squashed before they even reach production. And it’s not just about safety — Whenever is remarkably fast, leveraging a Rust-powered backend while also offering a pure Python version for those prioritizing simplicity over speed. Whether parsing dates, managing timezones, or performing arithmetic across time boundaries, this library has you covered with precision and clarity.\n",
    "\n",
    "- The functionality of Whenever is refreshingly intuitive. It introduces explicit types like Instant, ZonedDateTime, and LocalDateTime, which clarify your intentions and prevent dangerous mixing of incompatible datetime objects. "
   ]
  },
  {
   "cell_type": "markdown",
   "id": "780b96d5-ede9-4bad-8a1e-8ed6719b7435",
   "metadata": {},
   "source": [
    "## Consider this example:"
   ]
  },
  {
   "cell_type": "code",
   "execution_count": 5,
   "id": "362eac58-7832-4a2b-8277-75cd84953d4d",
   "metadata": {},
   "outputs": [
    {
     "data": {
      "text/plain": [
       "ZonedDateTime(2024-07-05 03:00:00+02:00[Europe/Paris])"
      ]
     },
     "execution_count": 5,
     "metadata": {},
     "output_type": "execute_result"
    }
   ],
   "source": [
    "from whenever import ZonedDateTime\n",
    "meeting = ZonedDateTime(2024, 7, 4, 15, tz=\"America/New_York\")\n",
    "meeting.add(hours=6).to_tz(\"Europe/Paris\")"
   ]
  },
  {
   "cell_type": "code",
   "execution_count": null,
   "id": "ae58643f-d5cb-4f47-9158-f673bdd3ef81",
   "metadata": {},
   "outputs": [],
   "source": []
  },
  {
   "cell_type": "code",
   "execution_count": null,
   "id": "4f3893c8-71b0-4dfa-ad75-eaf61e114969",
   "metadata": {},
   "outputs": [],
   "source": []
  },
  {
   "cell_type": "code",
   "execution_count": null,
   "id": "16803e85-16e0-4e84-adde-5b2790f68cfb",
   "metadata": {},
   "outputs": [],
   "source": []
  },
  {
   "cell_type": "code",
   "execution_count": null,
   "id": "de4bfc78-0e22-416a-a882-397c587a55ce",
   "metadata": {},
   "outputs": [],
   "source": []
  },
  {
   "cell_type": "code",
   "execution_count": null,
   "id": "be933cf3-a457-4a79-9d60-0763214b2dc5",
   "metadata": {},
   "outputs": [],
   "source": []
  }
 ],
 "metadata": {
  "kernelspec": {
   "display_name": "Python 3 (ipykernel)",
   "language": "python",
   "name": "python3"
  },
  "language_info": {
   "codemirror_mode": {
    "name": "ipython",
    "version": 3
   },
   "file_extension": ".py",
   "mimetype": "text/x-python",
   "name": "python",
   "nbconvert_exporter": "python",
   "pygments_lexer": "ipython3",
   "version": "3.10.13"
  }
 },
 "nbformat": 4,
 "nbformat_minor": 5
}
