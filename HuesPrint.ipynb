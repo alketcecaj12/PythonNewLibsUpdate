{
 "cells": [
  {
   "cell_type": "code",
   "execution_count": 3,
   "id": "b69473ef-6f79-498c-84cf-56f9e96f2da4",
   "metadata": {},
   "outputs": [
    {
     "ename": "ImportError",
     "evalue": "cannot import name 'print_hues' from 'hues' (/Users/alket/miniconda3/envs/myenv/lib/python3.10/site-packages/hues/__init__.py)",
     "output_type": "error",
     "traceback": [
      "\u001b[0;31m---------------------------------------------------------------------------\u001b[0m",
      "\u001b[0;31mImportError\u001b[0m                               Traceback (most recent call last)",
      "Cell \u001b[0;32mIn[3], line 1\u001b[0m\n\u001b[0;32m----> 1\u001b[0m \u001b[38;5;28;01mfrom\u001b[39;00m \u001b[38;5;21;01mhues\u001b[39;00m \u001b[38;5;28;01mimport\u001b[39;00m print_hues\n",
      "\u001b[0;31mImportError\u001b[0m: cannot import name 'print_hues' from 'hues' (/Users/alket/miniconda3/envs/myenv/lib/python3.10/site-packages/hues/__init__.py)"
     ]
    }
   ],
   "source": [
    "from hues import print_hues"
   ]
  },
  {
   "cell_type": "code",
   "execution_count": 4,
   "id": "9be889ed-a7ad-4c23-a968-2593c27aca27",
   "metadata": {},
   "outputs": [
    {
     "ename": "NameError",
     "evalue": "name 'print_hues' is not defined",
     "output_type": "error",
     "traceback": [
      "\u001b[0;31m---------------------------------------------------------------------------\u001b[0m",
      "\u001b[0;31mNameError\u001b[0m                                 Traceback (most recent call last)",
      "Cell \u001b[0;32mIn[4], line 1\u001b[0m\n\u001b[0;32m----> 1\u001b[0m \u001b[43mprint_hues\u001b[49m(\u001b[38;5;124m\"\u001b[39m\u001b[38;5;124mThis is an info message!! \u001b[39m\u001b[38;5;124m\"\u001b[39m, color \u001b[38;5;241m=\u001b[39m \u001b[38;5;124m\"\u001b[39m\u001b[38;5;124mblue\u001b[39m\u001b[38;5;124m\"\u001b[39m)\n\u001b[1;32m      2\u001b[0m print_hues(\u001b[38;5;124m\"\u001b[39m\u001b[38;5;124mThis is an error message!! \u001b[39m\u001b[38;5;124m\"\u001b[39m, color \u001b[38;5;241m=\u001b[39m \u001b[38;5;124m\"\u001b[39m\u001b[38;5;124mred\u001b[39m\u001b[38;5;124m\"\u001b[39m)\n",
      "\u001b[0;31mNameError\u001b[0m: name 'print_hues' is not defined"
     ]
    }
   ],
   "source": [
    "print_hues(\"This is an info message!! \", color = \"blue\")\n",
    "print_hues(\"This is an error message!! \", color = \"red\")"
   ]
  },
  {
   "cell_type": "code",
   "execution_count": null,
   "id": "a6040f41-0f00-4674-8a44-de209265229b",
   "metadata": {},
   "outputs": [],
   "source": []
  },
  {
   "cell_type": "code",
   "execution_count": null,
   "id": "ed7b0294-c738-4711-a04d-5afd3be5b52c",
   "metadata": {},
   "outputs": [],
   "source": []
  },
  {
   "cell_type": "code",
   "execution_count": null,
   "id": "50ee54db-b2e7-421d-83ed-20a0d5439e0e",
   "metadata": {},
   "outputs": [],
   "source": []
  },
  {
   "cell_type": "code",
   "execution_count": null,
   "id": "7e7c42cb-5bfd-49d3-94f6-4334774949c8",
   "metadata": {},
   "outputs": [],
   "source": []
  },
  {
   "cell_type": "code",
   "execution_count": null,
   "id": "1e6ab7a5-9759-4f33-b30c-6054fd295935",
   "metadata": {},
   "outputs": [],
   "source": []
  },
  {
   "cell_type": "code",
   "execution_count": null,
   "id": "7d28a569-bf8f-444d-bece-535a337d11bc",
   "metadata": {},
   "outputs": [],
   "source": []
  },
  {
   "cell_type": "code",
   "execution_count": null,
   "id": "4621b20a-f4bd-4018-b0aa-4cb5b04324d0",
   "metadata": {},
   "outputs": [],
   "source": []
  },
  {
   "cell_type": "code",
   "execution_count": null,
   "id": "89e70305-ac02-48d3-9e81-1cb138d11d9b",
   "metadata": {},
   "outputs": [],
   "source": []
  }
 ],
 "metadata": {
  "kernelspec": {
   "display_name": "Python 3 (ipykernel)",
   "language": "python",
   "name": "python3"
  },
  "language_info": {
   "codemirror_mode": {
    "name": "ipython",
    "version": 3
   },
   "file_extension": ".py",
   "mimetype": "text/x-python",
   "name": "python",
   "nbconvert_exporter": "python",
   "pygments_lexer": "ipython3",
   "version": "3.10.13"
  }
 },
 "nbformat": 4,
 "nbformat_minor": 5
}
