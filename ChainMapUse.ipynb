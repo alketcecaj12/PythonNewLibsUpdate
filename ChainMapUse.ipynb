{
 "cells": [
  {
   "cell_type": "markdown",
   "id": "d314b705-55ab-427b-988e-638d9beb319a",
   "metadata": {},
   "source": [
    "## ChainMap\n",
    "\n",
    "- it is a data structure provided by Python collection ìs module that links multiple dictionaries together into a single logical unit. "
   ]
  },
  {
   "cell_type": "code",
   "execution_count": 1,
   "id": "c25e9800-f932-4950-b514-002126d6f3a6",
   "metadata": {},
   "outputs": [],
   "source": [
    "from collections import ChainMap"
   ]
  },
  {
   "cell_type": "code",
   "execution_count": 2,
   "id": "bfe83f03-37fe-4d41-a60d-a773614816f8",
   "metadata": {},
   "outputs": [],
   "source": [
    "d1 = {\"A\":1, \"B\":2}\n",
    "d2 = {\"B\":3, \"C\":4}"
   ]
  },
  {
   "cell_type": "code",
   "execution_count": 3,
   "id": "c6f98ac2-8df0-472f-b9ee-87f160007970",
   "metadata": {},
   "outputs": [],
   "source": [
    "cm = ChainMap(d1, d2)"
   ]
  },
  {
   "cell_type": "code",
   "execution_count": 4,
   "id": "04ff54b7-e6bd-4110-9e83-c9cac33e4f02",
   "metadata": {},
   "outputs": [
    {
     "data": {
      "text/plain": [
       "ChainMap({'A': 1, 'B': 2}, {'B': 3, 'C': 4})"
      ]
     },
     "execution_count": 4,
     "metadata": {},
     "output_type": "execute_result"
    }
   ],
   "source": [
    "cm"
   ]
  },
  {
   "cell_type": "markdown",
   "id": "8020c705-5e10-4c5f-96a4-b547a039c77f",
   "metadata": {},
   "source": [
    "### Work with hierarchical data\n",
    "\n",
    "- for hierarchical data structures such as system environments or nested dictionaries, ChainMap provides a clean and efficeient solution. "
   ]
  },
  {
   "cell_type": "code",
   "execution_count": 5,
   "id": "59259f62-df29-4f8d-a9b3-2e8586cb8967",
   "metadata": {},
   "outputs": [],
   "source": [
    "prod_config ={\"db_host\":\"prod-db.example.com\", \"db_user\":\"admin\"}\n",
    "dev_config ={\"db_host\":\"dev-db.example.com\"}"
   ]
  },
  {
   "cell_type": "code",
   "execution_count": 6,
   "id": "b4ddd52b-ee60-4b0e-82c6-0bfa9f62c869",
   "metadata": {},
   "outputs": [],
   "source": [
    "# combine them giving priority to the development config"
   ]
  },
  {
   "cell_type": "code",
   "execution_count": 7,
   "id": "ef3a32a4-e833-433d-b258-df0f542945ee",
   "metadata": {},
   "outputs": [],
   "source": [
    "env_config = ChainMap(dev_config, prod_config)"
   ]
  },
  {
   "cell_type": "code",
   "execution_count": 8,
   "id": "413d5266-b85f-43d8-9a71-64c8ae934132",
   "metadata": {},
   "outputs": [
    {
     "data": {
      "text/plain": [
       "ChainMap({'db_host': 'dev-db.example.com'}, {'db_host': 'prod-db.example.com', 'db_user': 'admin'})"
      ]
     },
     "execution_count": 8,
     "metadata": {},
     "output_type": "execute_result"
    }
   ],
   "source": [
    "env_config"
   ]
  },
  {
   "cell_type": "code",
   "execution_count": 9,
   "id": "6a87c3e0-8923-4cd2-9cb1-ccd18c216810",
   "metadata": {},
   "outputs": [
    {
     "data": {
      "text/plain": [
       "'dev-db.example.com'"
      ]
     },
     "execution_count": 9,
     "metadata": {},
     "output_type": "execute_result"
    }
   ],
   "source": [
    "env_config[\"db_host\"]"
   ]
  },
  {
   "cell_type": "code",
   "execution_count": null,
   "id": "5767b147-0ac9-458c-a735-3fe0862c811d",
   "metadata": {},
   "outputs": [],
   "source": []
  },
  {
   "cell_type": "code",
   "execution_count": null,
   "id": "8439e507-61b3-49ec-beb3-1e6b3f4f1223",
   "metadata": {},
   "outputs": [],
   "source": []
  }
 ],
 "metadata": {
  "kernelspec": {
   "display_name": "Python 3 (ipykernel)",
   "language": "python",
   "name": "python3"
  },
  "language_info": {
   "codemirror_mode": {
    "name": "ipython",
    "version": 3
   },
   "file_extension": ".py",
   "mimetype": "text/x-python",
   "name": "python",
   "nbconvert_exporter": "python",
   "pygments_lexer": "ipython3",
   "version": "3.10.13"
  }
 },
 "nbformat": 4,
 "nbformat_minor": 5
}
