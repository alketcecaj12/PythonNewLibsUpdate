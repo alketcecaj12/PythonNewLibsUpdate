{
 "cells": [
  {
   "cell_type": "code",
   "execution_count": 1,
   "id": "2a169ff9-60f7-4e2f-a87b-0b9950f6289f",
   "metadata": {},
   "outputs": [],
   "source": [
    "import yaml"
   ]
  },
  {
   "cell_type": "code",
   "execution_count": 2,
   "id": "7a01bec1-460b-43b6-a216-f82c252d3d29",
   "metadata": {},
   "outputs": [],
   "source": [
    "names_yaml = \"\"\"\n",
    "- 'erik'\n",
    "- 'justin'\n",
    "- 'mary-kate'\n",
    "\"\"\"\n",
    "\n",
    "names = yaml.safe_load(names_yaml)"
   ]
  },
  {
   "cell_type": "code",
   "execution_count": 3,
   "id": "f37f9ef0-80e1-4860-b4b0-3fde7763ec07",
   "metadata": {},
   "outputs": [
    {
     "data": {
      "text/plain": [
       "['erik', 'justin', 'mary-kate']"
      ]
     },
     "execution_count": 3,
     "metadata": {},
     "output_type": "execute_result"
    }
   ],
   "source": [
    "names"
   ]
  },
  {
   "cell_type": "code",
   "execution_count": 4,
   "id": "5a6aaaea-d6ad-4e13-a15f-27d76b800e2b",
   "metadata": {},
   "outputs": [],
   "source": [
    "with open('names.yaml', 'w') as file: \n",
    "    yaml.dump(names, file)"
   ]
  },
  {
   "cell_type": "code",
   "execution_count": 5,
   "id": "8fd145be-d0e4-4052-a160-529568ce506e",
   "metadata": {},
   "outputs": [
    {
     "name": "stdout",
     "output_type": "stream",
     "text": [
      "- erik\n",
      "- justin\n",
      "- mary-kate\n",
      "\n"
     ]
    }
   ],
   "source": [
    "print(open('names.yaml').read())"
   ]
  },
  {
   "cell_type": "code",
   "execution_count": null,
   "id": "479510ef-bfe3-4b58-82d4-8f57fb545a10",
   "metadata": {},
   "outputs": [],
   "source": []
  },
  {
   "cell_type": "code",
   "execution_count": null,
   "id": "ecada5c4-5a79-462d-bac1-1652f1ba0793",
   "metadata": {},
   "outputs": [],
   "source": []
  },
  {
   "cell_type": "code",
   "execution_count": null,
   "id": "d8d02849-02ae-414d-8e74-15dedf2c8878",
   "metadata": {},
   "outputs": [],
   "source": []
  },
  {
   "cell_type": "code",
   "execution_count": null,
   "id": "183a71b2-6612-4263-8e5e-10d6bb35ae98",
   "metadata": {},
   "outputs": [],
   "source": []
  },
  {
   "cell_type": "code",
   "execution_count": null,
   "id": "e3678029-d038-4c6e-a48b-d340a2af2d6d",
   "metadata": {},
   "outputs": [],
   "source": []
  },
  {
   "cell_type": "code",
   "execution_count": null,
   "id": "0bf7112c-2ff9-425c-88a7-e559992a69c9",
   "metadata": {},
   "outputs": [],
   "source": []
  },
  {
   "cell_type": "code",
   "execution_count": null,
   "id": "1a1987e9-7184-46cd-8a72-c6ca67496ccb",
   "metadata": {},
   "outputs": [],
   "source": []
  }
 ],
 "metadata": {
  "kernelspec": {
   "display_name": "Python 3 (ipykernel)",
   "language": "python",
   "name": "python3"
  },
  "language_info": {
   "codemirror_mode": {
    "name": "ipython",
    "version": 3
   },
   "file_extension": ".py",
   "mimetype": "text/x-python",
   "name": "python",
   "nbconvert_exporter": "python",
   "pygments_lexer": "ipython3",
   "version": "3.10.13"
  }
 },
 "nbformat": 4,
 "nbformat_minor": 5
}
